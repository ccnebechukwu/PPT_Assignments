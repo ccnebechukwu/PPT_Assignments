{
 "cells": [
  {
   "cell_type": "markdown",
   "id": "00a17061",
   "metadata": {},
   "source": [
    "## Question 1:\n",
    "\n",
    "Move Zeroes\n",
    "Given an integer array nums, move all 0's to the end of it while maintaining the relative order of the non-zero elements.\n",
    "\n",
    "Note that you must do this in-place without making a copy of the array.\n",
    "\n",
    "Example 1:\n",
    "Input: nums = [0,1,0,3,12]\n",
    "Output: [1,3,12,0,0]\n",
    "\n",
    "Example 2:\n",
    "Input: nums = [0]\n",
    "Output: [0]\n",
    "\n",
    "Constraints:\n",
    "a. 1 <= nums.length <= 10^4\n",
    "b. -2^31 <= nums[i] <= 2^31 - 1"
   ]
  },
  {
   "cell_type": "code",
   "execution_count": 2,
   "id": "51818536",
   "metadata": {},
   "outputs": [
    {
     "name": "stdout",
     "output_type": "stream",
     "text": [
      "[1, 3, 12, 0, 0]\n",
      "[0]\n"
     ]
    }
   ],
   "source": [
    "## Answer:\n",
    "\n",
    "## Time complexity = O(n)\n",
    "## Space complexity = O(1)\n",
    "\n",
    "def moveZeroes(nums):\n",
    "    n = len(nums)\n",
    "    # Index to place the next non-zero element\n",
    "    next_non_zero_index = 0  \n",
    "\n",
    "    # Iterate through the array\n",
    "    for i in range(n):\n",
    "        # If the current element is non-zero, move it to the next non-zero index\n",
    "        if nums[i] != 0:\n",
    "            nums[next_non_zero_index] = nums[i]\n",
    "            next_non_zero_index += 1\n",
    "\n",
    "    # Fill the remaining positions with zeroes\n",
    "    while next_non_zero_index < n:\n",
    "        nums[next_non_zero_index] = 0\n",
    "        next_non_zero_index += 1\n",
    "\n",
    "    return nums\n",
    "\n",
    "nums1 = [0, 1, 0, 3, 12]\n",
    "print(moveZeroes(nums1))\n",
    "\n",
    "nums2 = [0]\n",
    "print(moveZeroes(nums2)) \n"
   ]
  },
  {
   "cell_type": "markdown",
   "id": "44d31c4d",
   "metadata": {},
   "source": [
    "## Question 2:\n",
    "\n",
    "First Unique Character in a String\n",
    "\n",
    "Given a string s, find the first non-repeating character in it and return its index. If it does not exist, return -1.\n",
    "\n",
    "Example 1:\n",
    "Input: s = \"leetcode\"\n",
    "Output: 0\n",
    "\n",
    "Example 2:\n",
    "Input: s = \"loveleetcode\"\n",
    "Output: 2\n",
    "\n",
    "Example 3:\n",
    "Input: s = \"aabb\"\n",
    "Output: -1\n",
    "\n",
    "Constraints:\n",
    "a. 1 <= s.length <= 10^5\n",
    "b. s consists of only lowercase English letters."
   ]
  },
  {
   "cell_type": "code",
   "execution_count": 3,
   "id": "da077332",
   "metadata": {},
   "outputs": [
    {
     "name": "stdout",
     "output_type": "stream",
     "text": [
      "0\n",
      "2\n",
      "-1\n"
     ]
    }
   ],
   "source": [
    "## Answer:\n",
    "\n",
    "## Time complexity = O(n^2)\n",
    "## Space complexity = O(n)\n",
    "\n",
    "def firstUniqChar(s):\n",
    "    # Use dictionary to store the frequency of each character\n",
    "    char_freq = {}  \n",
    "\n",
    "    # Count the frequency of each character in the string\n",
    "    for char in s:\n",
    "        char_freq[char] = char_freq.get(char, 0) + 1\n",
    "\n",
    "    # Find the first character with a frequency of 1\n",
    "    for i, char in enumerate(s):\n",
    "        if char_freq[char] == 1:\n",
    "            return i\n",
    "\n",
    "    return -1  \n",
    "\n",
    "\n",
    "s1 = \"leetcode\"\n",
    "print(firstUniqChar(s1)) \n",
    "\n",
    "s2 = \"loveleetcode\"\n",
    "print(firstUniqChar(s2))  \n",
    "\n",
    "s3 = \"aabb\"\n",
    "print(firstUniqChar(s3)) "
   ]
  },
  {
   "cell_type": "code",
   "execution_count": null,
   "id": "c21f76cb",
   "metadata": {},
   "outputs": [],
   "source": []
  }
 ],
 "metadata": {
  "kernelspec": {
   "display_name": "Python 3 (ipykernel)",
   "language": "python",
   "name": "python3"
  },
  "language_info": {
   "codemirror_mode": {
    "name": "ipython",
    "version": 3
   },
   "file_extension": ".py",
   "mimetype": "text/x-python",
   "name": "python",
   "nbconvert_exporter": "python",
   "pygments_lexer": "ipython3",
   "version": "3.10.9"
  }
 },
 "nbformat": 4,
 "nbformat_minor": 5
}
